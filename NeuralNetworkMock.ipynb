{
 "cells": [
  {
   "cell_type": "code",
   "execution_count": 3,
   "metadata": {},
   "outputs": [],
   "source": [
    "import numpy as np\n",
    "import matplotlib.pyplot as plt\n",
    "from sklearn.datasets import make_blobs,make_moons"
   ]
  },
  {
   "cell_type": "code",
   "execution_count": 4,
   "metadata": {},
   "outputs": [],
   "source": [
    "input_size = 3\n",
    "hidden = [4,3]\n",
    "output_size = 2"
   ]
  },
  {
   "cell_type": "code",
   "execution_count": 17,
   "metadata": {},
   "outputs": [],
   "source": [
    "def softmax(a):\n",
    "    e_pa = np.exp(a)\n",
    "    return e_pa/(np.sum(e_pa,axis = 1,keepdims = True))"
   ]
  },
  {
   "cell_type": "code",
   "execution_count": 19,
   "metadata": {},
   "outputs": [
    {
     "name": "stdout",
     "output_type": "stream",
     "text": [
      "[[5.00000000e-01 5.00000000e-01]\n",
      " [5.00000000e-01 5.00000000e-01]\n",
      " [4.53978687e-05 9.99954602e-01]\n",
      " [9.99954602e-01 4.53978687e-05]\n",
      " [7.47197234e-43 1.00000000e+00]]\n"
     ]
    }
   ],
   "source": [
    "j = np.array([[10,10],[20,20],[10,10],[10,10],[100,100]])\n",
    "print(softmax(j))"
   ]
  },
  {
   "cell_type": "code",
   "execution_count": 6,
   "metadata": {},
   "outputs": [],
   "source": [
    "class NeuralNetworkMock:\n",
    "    \n",
    "    def __init__(self,input_size,hidden,output_size):\n",
    "        \n",
    "        model = {}\n",
    "        \n",
    "        model['w1'] = np.random.randn(input_size,hidden[0]) ## initialised weight matrix of shape(3x4) from standard distribution \n",
    "        model['b1'] = np.zeros((1,hidden[0])) ## initialised bias matrix of shape (1,4) full of zeros\n",
    "        \n",
    "        model['w2'] = np.random.randn(hidden[0],hidden[1]) ## shape(4x3)\n",
    "        model['b2'] = np.zeros((1,hidden[1])) ## shape(1x3)\n",
    "        \n",
    "        model['w3'] = np.random.randn(hidden[1],output_size) ## shape(3x2)\n",
    "        model['b3'] = np.zeros((1,output_size)) ## shape(1x2)\n",
    "        \n",
    "        self.model = model\n",
    "        \n",
    "    def forward(self,x):\n",
    "        \n",
    "        w1,w2,w3 = self.model['w1'],self.model['w2'],self.model['w3']\n",
    "        b1,b2,b3 = self.model['b1'],self.model['b2'],self.model['b3']\n",
    "        \n",
    "        z1 = np.dot(x,w1) + b1\n",
    "        a1 = np.tanh(z1)\n",
    "        \n",
    "        z2 = np.dot(a1,w2) + b2\n",
    "        a2 = np.tanh(z2)\n",
    "        \n",
    "        z3 = np.dot(a2,w3) + b3\n",
    "        y_ = softmax(z3)"
   ]
  },
  {
   "cell_type": "code",
   "execution_count": null,
   "metadata": {},
   "outputs": [],
   "source": []
  },
  {
   "cell_type": "code",
   "execution_count": null,
   "metadata": {},
   "outputs": [],
   "source": []
  }
 ],
 "metadata": {
  "kernelspec": {
   "display_name": "Python 3",
   "language": "python",
   "name": "python3"
  },
  "language_info": {
   "codemirror_mode": {
    "name": "ipython",
    "version": 3
   },
   "file_extension": ".py",
   "mimetype": "text/x-python",
   "name": "python",
   "nbconvert_exporter": "python",
   "pygments_lexer": "ipython3",
   "version": "3.7.1"
  }
 },
 "nbformat": 4,
 "nbformat_minor": 2
}
