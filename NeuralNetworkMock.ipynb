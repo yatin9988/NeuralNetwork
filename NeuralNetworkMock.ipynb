{
 "cells": [
  {
   "cell_type": "code",
   "execution_count": 14,
   "metadata": {},
   "outputs": [],
   "source": [
    "import numpy as np\n",
    "import matplotlib.pyplot as plt\n",
    "from sklearn.datasets import make_blobs,make_moons"
   ]
  },
  {
   "cell_type": "code",
   "execution_count": 15,
   "metadata": {},
   "outputs": [],
   "source": [
    "input_size = 3\n",
    "hidden = [4,3]\n",
    "output_size = 2"
   ]
  },
  {
   "cell_type": "code",
   "execution_count": 16,
   "metadata": {},
   "outputs": [],
   "source": [
    "class NeuralNetworkMock:\n",
    "    \n",
    "    def __init__(self,input_size,hidden,output_size):\n",
    "        \n",
    "        model = {}\n",
    "        \n",
    "        model['w1'] = np.random.randn(input_size,hidden[0]) ## initialised weight matrix of shape(3x4) from standard distribution \n",
    "        model['b1'] = np.zeros((1,hidden[0])) ## initialised bias matrix of shape (1,4) full of zeros\n",
    "        \n",
    "        model['w2'] = np.random.randn(hidden[0],hidden[1]) ## shape(4x3)\n",
    "        model['b2'] = np.zeros((1,hidden[1])) ## shape(1x3)\n",
    "        \n",
    "        model['w3'] = np.random.randn(hidden[1],output_size) ## shape(3x2)\n",
    "        model['b3'] = np.zeros((1,output_size)) ## shape(1x2)\n",
    "        \n",
    "        self.model = model"
   ]
  },
  {
   "cell_type": "code",
   "execution_count": null,
   "metadata": {},
   "outputs": [],
   "source": []
  },
  {
   "cell_type": "code",
   "execution_count": null,
   "metadata": {},
   "outputs": [],
   "source": []
  }
 ],
 "metadata": {
  "kernelspec": {
   "display_name": "Python 3",
   "language": "python",
   "name": "python3"
  },
  "language_info": {
   "codemirror_mode": {
    "name": "ipython",
    "version": 3
   },
   "file_extension": ".py",
   "mimetype": "text/x-python",
   "name": "python",
   "nbconvert_exporter": "python",
   "pygments_lexer": "ipython3",
   "version": "3.7.1"
  }
 },
 "nbformat": 4,
 "nbformat_minor": 2
}
